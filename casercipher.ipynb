{
  "nbformat": 4,
  "nbformat_minor": 0,
  "metadata": {
    "colab": {
      "name": "Untitled0.ipynb",
      "provenance": [],
      "authorship_tag": "ABX9TyO21jQVs03C2dnikfkol+Zt",
      "include_colab_link": true
    },
    "kernelspec": {
      "name": "python3",
      "display_name": "Python 3"
    }
  },
  "cells": [
    {
      "cell_type": "markdown",
      "metadata": {
        "id": "view-in-github",
        "colab_type": "text"
      },
      "source": [
        "<a href=\"https://colab.research.google.com/github/linet19/Project/blob/master/casercipher.ipynb\" target=\"_parent\"><img src=\"https://colab.research.google.com/assets/colab-badge.svg\" alt=\"Open In Colab\"/></a>"
      ]
    },
    {
      "cell_type": "code",
      "metadata": {
        "id": "V03FvnpsZphl",
        "colab_type": "code",
        "colab": {
          "base_uri": "https://localhost:8080/",
          "height": 187
        },
        "outputId": "83685fdb-e4d3-4837-b65e-5e7188eb1a59"
      },
      "source": [
        "print(\"Enter the Plaintext\")\n",
        "plaintext = str(input())\n",
        "print(\"Enter the key:\")\n",
        "key = int(input())\n",
        "ciphertext = ''\n",
        "for i in plaintext:\n",
        "    if(i.islower()):\n",
        "        t = ord(i) -97\n",
        "        ct = (t + key)% 26\n",
        "        c = ct + 97\n",
        "        ciphertext = ciphertext + chr(c)\n",
        "    elif( i.isupper() ) :\n",
        "        t = ord(i) -65\n",
        "        ct = ( t + key ) % 26\n",
        "        c = ct + 65\n",
        "        ciphertext = ciphertext + chr(c)\n",
        "    else:\n",
        "       ciphertext = ciphertext + 1\n",
        "print(ciphertext)\n",
        "\n",
        "\n",
        "print(\"Enter the Ciphertext\")\n",
        "ciphertext = str(input())\n",
        "print(\"Enter the key:\")\n",
        "key = int(input())\n",
        "plaintext = ''\n",
        "for i in ciphertext :\n",
        "    if( i.islower() ):\n",
        "        t = ord(i) -97\n",
        "        ct = ( t - key ) % 26\n",
        "        c = ct + 97\n",
        "        plaintext = plaintext + chr(c)\n",
        "    elif( i.isupper() ) :\n",
        "        t = ord(i) -65\n",
        "        ct = ( t - key ) % 26\n",
        "        c = ct + 65\n",
        "        plaintext = plaintext + chr(c)\n",
        "    else :\n",
        "       plaintext = plaintext + 1\n",
        "print(plaintext)\n",
        "\n",
        "        \n",
        "        "
      ],
      "execution_count": 1,
      "outputs": [
        {
          "output_type": "stream",
          "text": [
            "Enter the Plaintext\n",
            "Hello\n",
            "Enter the key:\n",
            "3\n",
            "Khoor\n",
            "Enter the Ciphertext\n",
            "Khoor\n",
            "Enter the key:\n",
            "3\n",
            "Hello\n"
          ],
          "name": "stdout"
        }
      ]
    },
    {
      "cell_type": "code",
      "metadata": {
        "id": "3BwtGtqQZr1q",
        "colab_type": "code",
        "colab": {}
      },
      "source": [
        ""
      ],
      "execution_count": null,
      "outputs": []
    }
  ]
}